{
 "cells": [
  {
   "cell_type": "markdown",
   "metadata": {},
   "source": [
    "   # simple NEURAL NETWORK"
   ]
  },
  {
   "cell_type": "code",
   "execution_count": 6,
   "metadata": {},
   "outputs": [],
   "source": [
    "import numpy as np"
   ]
  },
  {
   "cell_type": "code",
   "execution_count": 19,
   "metadata": {},
   "outputs": [
    {
     "name": "stdout",
     "output_type": "stream",
     "text": [
      "random starting synaptic weights are: \n",
      "[[-0.16595599]\n",
      " [ 0.44064899]\n",
      " [-0.99977125]]\n",
      "synaptic weights after training are: \n",
      "[[12.00870061]\n",
      " [-0.2044116 ]\n",
      " [-5.8002822 ]]\n",
      "outputs after training: \n",
      "[[0.00301758]\n",
      " [0.99753723]\n",
      " [0.99799161]\n",
      " [0.00246109]]\n"
     ]
    }
   ],
   "source": [
    "def sigmoid(x):\n",
    "    return 1 / (1 + np.exp(-x))\n",
    "\n",
    "def sigmoid_derrivative(x):\n",
    "    return x * (1 - x)\n",
    "\n",
    "\n",
    "training_inputs = np.array([[0,0,1],\n",
    "                            [1,1,1],\n",
    "                            [1,0,1],\n",
    "                            [0,1,1]])\n",
    "training_outputs = np.array([[0,1,1,0]]).T\n",
    "\n",
    "np.random.seed(1)\n",
    "synaptic_weights = 2 * np.random.random((3,1)) -1\n",
    "print('random starting synaptic weights are: ')\n",
    "print(synaptic_weights)\n",
    "\n",
    "for iteration in range(100000):\n",
    "    input_layer = training_inputs\n",
    "    \n",
    "    outputs = sigmoid(np.dot(input_layer, synaptic_weights))\n",
    "    \n",
    "    err = training_outputs - outputs\n",
    "    adjustments = err * sigmoid_derrivative(outputs)\n",
    "    synaptic_weights += np.dot(input_layer.T, adjustments)\n",
    "    pass\n",
    "print ('synaptic weights after training are: ')\n",
    "print (synaptic_weights)\n",
    "print('outputs after training: ')\n",
    "print(outputs)\n",
    "    "
   ]
  },
  {
   "cell_type": "code",
   "execution_count": null,
   "metadata": {},
   "outputs": [],
   "source": []
  }
 ],
 "metadata": {
  "kernelspec": {
   "display_name": "Python 3",
   "language": "python",
   "name": "python3"
  },
  "language_info": {
   "codemirror_mode": {
    "name": "ipython",
    "version": 3
   },
   "file_extension": ".py",
   "mimetype": "text/x-python",
   "name": "python",
   "nbconvert_exporter": "python",
   "pygments_lexer": "ipython3",
   "version": "3.6.5"
  }
 },
 "nbformat": 4,
 "nbformat_minor": 2
}
