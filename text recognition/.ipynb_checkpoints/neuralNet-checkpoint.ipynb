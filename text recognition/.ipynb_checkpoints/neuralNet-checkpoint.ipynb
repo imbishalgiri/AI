{
 "cells": [
  {
   "cell_type": "markdown",
   "metadata": {},
   "source": [
    "### SIMPLE NEURAL NETWORK IMPLEMENTATION\n"
   ]
  },
  {
   "cell_type": "code",
   "execution_count": 23,
   "metadata": {},
   "outputs": [],
   "source": [
    "import numpy as np\n",
    "import scipy.special as sp"
   ]
  },
  {
   "cell_type": "code",
   "execution_count": 47,
   "metadata": {},
   "outputs": [],
   "source": [
    "class NeuralNetwork:\n",
    "    \n",
    "    # initialize the neural network\n",
    "    def __init__(self, inputNodes, hiddenNodes, outputNodes, learningRate):\n",
    "        self.inNodes = inputNodes # input nodes\n",
    "        self.hNodes = hiddenNodes # hidden nodes\n",
    "        self.oNodes = outputNodes # output nodes\n",
    "        self.lr = learningRate # learning rate\n",
    "        \n",
    "        # matrix containing links(weights) between input and hidden layer\n",
    "        self.wih = (np.random.rand(self.hNodes, self.inNodes) - 0.5)\n",
    "        # matrix containing links(weights) between hidden and output layer \n",
    "        self.who = (np.random.rand(self.oNodes, self.hNodes) - 0.5)\n",
    "        # activation function is the sigmoid function\n",
    "        self.activation_function = lambda x : sp.expit(x)\n",
    "        pass\n",
    "    \n",
    "    # train the neural network\n",
    "    def train(self, inputList, targetList):\n",
    "        \n",
    "        # convert input lists to 2d array\n",
    "        inputs = np.array(inputList, ndmin=2).T\n",
    "        targets = np.array(targetList, ndmin=2).T\n",
    "        \n",
    "        hiddenInputs = np.dot(self.wih, inputs)\n",
    "        hiddenOutputs = self.activation_function(hiddenInputs)\n",
    "        \n",
    "        finalInputs = np.dot(self.who, hiddenOutputs)\n",
    "        finalOutputs = self.activation_function(finalInputs)\n",
    "        \n",
    "        outputErrors = targets - finalOutputs\n",
    "        hiddenErrors = np.dot(self.who, outputErrors)\n",
    "        \n",
    "        self.who += self.lr * np.dot((outputErrors * finalOutputs * (1.0 - finalOutputs)), np.transpose(hiddenOutputs))\n",
    "        self.wih += self.lr * np.dot((hiddenErrors * hiddenOutputs * (1.0 - hiddenOutputs)), np.transpose(inputs))\n",
    "        pass\n",
    "    \n",
    "    def query(self, inputsList):\n",
    "        # convert inputs list to 2d array\n",
    "        inputs = np.array(inputsList, ndmin=2).T\n",
    "        \n",
    "        # calculate signals into hidden layer\n",
    "        hiddenInputs = np.dot(self.wih, inputs)\n",
    "        # calculate the signals emerging from hidden layer\n",
    "        hiddenOutputs = self.activation_function(hiddenInputs)\n",
    "        \n",
    "        # calculate signals into final output layer\n",
    "        finalInputs = np.dot(self.who, hiddenOutputs)\n",
    "        # calculate the signals emerging from final output layer\n",
    "        finalOutputs = self.activation_function(finalInputs)\n",
    "        \n",
    "        return finalOutputs\n",
    "    \n",
    "    "
   ]
  },
  {
   "cell_type": "code",
   "execution_count": 44,
   "metadata": {},
   "outputs": [],
   "source": [
    "inputNodes = 3\n",
    "hiddenNodes = 3\n",
    "outputNodes = 3\n",
    "\n",
    "learningRate = 0.3"
   ]
  },
  {
   "cell_type": "code",
   "execution_count": 45,
   "metadata": {},
   "outputs": [],
   "source": [
    "n = NeuralNetwork(inputNodes, hiddenNodes, outputNodes, learningRate)"
   ]
  },
  {
   "cell_type": "code",
   "execution_count": 46,
   "metadata": {},
   "outputs": [
    {
     "data": {
      "text/plain": [
       "array([[0.4636714 ],\n",
       "       [0.41259325],\n",
       "       [0.42159749]])"
      ]
     },
     "execution_count": 46,
     "metadata": {},
     "output_type": "execute_result"
    }
   ],
   "source": [
    "# test query (doesn't mean anything useful yet)\n",
    "n.query([1.0, 0.5, -1.5])"
   ]
  },
  {
   "cell_type": "code",
   "execution_count": null,
   "metadata": {},
   "outputs": [],
   "source": []
  }
 ],
 "metadata": {
  "kernelspec": {
   "display_name": "Python 3",
   "language": "python",
   "name": "python3"
  },
  "language_info": {
   "codemirror_mode": {
    "name": "ipython",
    "version": 3
   },
   "file_extension": ".py",
   "mimetype": "text/x-python",
   "name": "python",
   "nbconvert_exporter": "python",
   "pygments_lexer": "ipython3",
   "version": "3.6.5"
  }
 },
 "nbformat": 4,
 "nbformat_minor": 2
}
